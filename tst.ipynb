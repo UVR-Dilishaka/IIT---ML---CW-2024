{
 "cells": [
  {
   "cell_type": "code",
   "execution_count": 115,
   "metadata": {},
   "outputs": [],
   "source": [
    "import pandas as pd\n",
    "from sklearn.model_selection import train_test_split\n",
    "from sklearn.ensemble import RandomForestClassifier, BaggingClassifier\n",
    "from sklearn.metrics import classification_report, confusion_matrix\n",
    "from sklearn.utils import resample\n",
    "from sklearn.preprocessing import LabelEncoder\n",
    "\n",
    "\n"
   ]
  },
  {
   "cell_type": "code",
   "execution_count": null,
   "metadata": {},
   "outputs": [],
   "source": [
    "\n"
   ]
  },
  {
   "cell_type": "code",
   "execution_count": 116,
   "metadata": {},
   "outputs": [],
   "source": [
    "df = pd.read_csv(\"data/bank-additional-full.csv\",delimiter=\";\")\n",
    "\n"
   ]
  },
  {
   "cell_type": "code",
   "execution_count": 117,
   "metadata": {},
   "outputs": [],
   "source": [
    "df.drop(columns=['duration'], inplace=True)"
   ]
  },
  {
   "cell_type": "code",
   "execution_count": 118,
   "metadata": {},
   "outputs": [
    {
     "data": {
      "text/plain": [
       "Index(['age', 'job', 'marital', 'education', 'default', 'housing', 'loan',\n",
       "       'contact', 'month', 'day_of_week', 'campaign', 'pdays', 'previous',\n",
       "       'poutcome', 'emp.var.rate', 'cons.price.idx', 'cons.conf.idx',\n",
       "       'euribor3m', 'nr.employed', 'y'],\n",
       "      dtype='object')"
      ]
     },
     "execution_count": 118,
     "metadata": {},
     "output_type": "execute_result"
    }
   ],
   "source": [
    "df.columns"
   ]
  },
  {
   "cell_type": "code",
   "execution_count": 119,
   "metadata": {},
   "outputs": [
    {
     "data": {
      "text/plain": [
       "0        mon\n",
       "1        mon\n",
       "2        mon\n",
       "3        mon\n",
       "4        mon\n",
       "        ... \n",
       "41183    fri\n",
       "41184    fri\n",
       "41185    fri\n",
       "41186    fri\n",
       "41187    fri\n",
       "Name: day_of_week, Length: 41188, dtype: object"
      ]
     },
     "execution_count": 119,
     "metadata": {},
     "output_type": "execute_result"
    }
   ],
   "source": [
    "df[\"day_of_week\"]"
   ]
  },
  {
   "cell_type": "code",
   "execution_count": 120,
   "metadata": {},
   "outputs": [],
   "source": [
    "# Preprocess categorical variables (use one-hot encoding or label encoding)\n",
    "df = pd.get_dummies(df, columns=['job', 'marital', 'education', 'contact', 'month', 'poutcome','day_of_week'], drop_first=True)\n",
    "\n"
   ]
  },
  {
   "cell_type": "code",
   "execution_count": 121,
   "metadata": {},
   "outputs": [
    {
     "data": {
      "text/plain": [
       "Index(['age', 'default', 'housing', 'loan', 'campaign', 'pdays', 'previous',\n",
       "       'emp.var.rate', 'cons.price.idx', 'cons.conf.idx', 'euribor3m',\n",
       "       'nr.employed', 'y', 'job_blue-collar', 'job_entrepreneur',\n",
       "       'job_housemaid', 'job_management', 'job_retired', 'job_self-employed',\n",
       "       'job_services', 'job_student', 'job_technician', 'job_unemployed',\n",
       "       'job_unknown', 'marital_married', 'marital_single', 'marital_unknown',\n",
       "       'education_basic.6y', 'education_basic.9y', 'education_high.school',\n",
       "       'education_illiterate', 'education_professional.course',\n",
       "       'education_university.degree', 'education_unknown', 'contact_telephone',\n",
       "       'month_aug', 'month_dec', 'month_jul', 'month_jun', 'month_mar',\n",
       "       'month_may', 'month_nov', 'month_oct', 'month_sep',\n",
       "       'poutcome_nonexistent', 'poutcome_success', 'day_of_week_mon',\n",
       "       'day_of_week_thu', 'day_of_week_tue', 'day_of_week_wed'],\n",
       "      dtype='object')"
      ]
     },
     "execution_count": 121,
     "metadata": {},
     "output_type": "execute_result"
    }
   ],
   "source": [
    "df.columns"
   ]
  },
  {
   "cell_type": "code",
   "execution_count": 122,
   "metadata": {},
   "outputs": [],
   "source": [
    "# Apply Label Encoding to binary variables (e.g., 'default', 'housing', 'loan')\n",
    "label_cols = ['default', 'housing', 'loan']\n",
    "label_encoder = LabelEncoder()\n",
    "\n",
    "for col in label_cols:\n",
    "    df[col] = label_encoder.fit_transform(df[col])"
   ]
  },
  {
   "cell_type": "code",
   "execution_count": 123,
   "metadata": {},
   "outputs": [],
   "source": [
    "# Separate input features (X) and target variable (y)\n",
    "X = df.drop(columns=['y'])\n",
    "y = df['y'].map({'no': 0, 'yes': 1})  # Map target to binary values (0 for no, 1 for yes)\n",
    "\n",
    "\n"
   ]
  },
  {
   "cell_type": "code",
   "execution_count": 124,
   "metadata": {},
   "outputs": [
    {
     "name": "stdout",
     "output_type": "stream",
     "text": [
      "Confusion Matrix:\n",
      " [[9040 1928]\n",
      " [ 472  917]]\n",
      "\n",
      "Classification Report:\n",
      "               precision    recall  f1-score   support\n",
      "\n",
      "           0       0.95      0.82      0.88     10968\n",
      "           1       0.32      0.66      0.43      1389\n",
      "\n",
      "    accuracy                           0.81     12357\n",
      "   macro avg       0.64      0.74      0.66     12357\n",
      "weighted avg       0.88      0.81      0.83     12357\n",
      "\n"
     ]
    }
   ],
   "source": [
    "from sklearn.utils import resample\n",
    "from sklearn.ensemble import RandomForestClassifier, BaggingClassifier\n",
    "from sklearn.metrics import confusion_matrix, classification_report\n",
    "from sklearn.model_selection import train_test_split\n",
    "import pandas as pd\n",
    "\n",
    "# Train/test split\n",
    "X_train, X_test, y_train, y_test = train_test_split(X, y, test_size=0.3, random_state=42)\n",
    "\n",
    "# Undersample the majority class (y=0)\n",
    "def undersample_majority_class(X, y):\n",
    "    # Combine X and y\n",
    "    data = pd.concat([X, y], axis=1)\n",
    "\n",
    "    # Separate majority and minority classes\n",
    "    majority = data[data['y'] == 0]\n",
    "    minority = data[data['y'] == 1]\n",
    "\n",
    "    # Undersample majority class\n",
    "    majority_downsampled = resample(\n",
    "        majority,\n",
    "        replace=False,\n",
    "        n_samples=len(minority),  # Match minority class size\n",
    "        random_state=42\n",
    "    )\n",
    "\n",
    "    # Combine undersampled majority with minority\n",
    "    balanced_data = pd.concat([majority_downsampled, minority])\n",
    "\n",
    "    # Separate features and target\n",
    "    X_balanced = balanced_data.drop('y', axis=1)\n",
    "    y_balanced = balanced_data['y']\n",
    "\n",
    "    return X_balanced, y_balanced\n",
    "\n",
    "# Undersample the majority class in the training set\n",
    "X_train_balanced, y_train_balanced = undersample_majority_class(X_train, y_train)\n",
    "\n",
    "# Use BaggingClassifier with RandomForestClassifier as the base estimator\n",
    "rf = RandomForestClassifier(n_estimators=100, random_state=42)\n",
    "bagging = BaggingClassifier(estimator=rf, n_estimators=10, random_state=42, bootstrap=True)\n",
    "\n",
    "# Train the model using the balanced dataset\n",
    "model = bagging.fit(X_train_balanced, y_train_balanced)\n",
    "\n",
    "# Predictions\n",
    "y_pred = model.predict(X_test)\n",
    "\n",
    "# Evaluate the model\n",
    "print(\"Confusion Matrix:\\n\", confusion_matrix(y_test, y_pred))\n",
    "print(\"\\nClassification Report:\\n\", classification_report(y_test, y_pred))\n"
   ]
  },
  {
   "cell_type": "code",
   "execution_count": 125,
   "metadata": {},
   "outputs": [
    {
     "name": "stdout",
     "output_type": "stream",
     "text": [
      "Confusion Matrix:\n",
      " [[10733   235]\n",
      " [ 1025   364]]\n",
      "\n",
      "Classification Report:\n",
      "               precision    recall  f1-score   support\n",
      "\n",
      "           0       0.91      0.98      0.94     10968\n",
      "           1       0.61      0.26      0.37      1389\n",
      "\n",
      "    accuracy                           0.90     12357\n",
      "   macro avg       0.76      0.62      0.66     12357\n",
      "weighted avg       0.88      0.90      0.88     12357\n",
      "\n"
     ]
    }
   ],
   "source": [
    "# Train/test split\n",
    "X_train, X_test, y_train, y_test = train_test_split(X, y, test_size=0.3, random_state=42)\n",
    "\n",
    "# Handle class imbalance using bagging or class weights in RandomForestClassifier\n",
    "# Method 1: Use class_weight='balanced' in Random Forest\n",
    "rf = RandomForestClassifier(n_estimators=100, class_weight='balanced', random_state=42)\n",
    "\n",
    "# Method 2: Use BaggingClassifier to oversample the minority class\n",
    "bagging = BaggingClassifier(estimator=rf, n_estimators=10, random_state=42, bootstrap=True)\n",
    "\n",
    "# Train the model using Bagging or balanced RandomForest\n",
    "model = bagging.fit(X_train, y_train)\n",
    "\n",
    "# Predictions\n",
    "y_pred = model.predict(X_test)\n",
    "\n",
    "# Evaluate the model\n",
    "print(\"Confusion Matrix:\\n\", confusion_matrix(y_test, y_pred))\n",
    "print(\"\\nClassification Report:\\n\", classification_report(y_test, y_pred))"
   ]
  }
 ],
 "metadata": {
  "kernelspec": {
   "display_name": "mlenv",
   "language": "python",
   "name": "python3"
  },
  "language_info": {
   "codemirror_mode": {
    "name": "ipython",
    "version": 3
   },
   "file_extension": ".py",
   "mimetype": "text/x-python",
   "name": "python",
   "nbconvert_exporter": "python",
   "pygments_lexer": "ipython3",
   "version": "3.12.7"
  }
 },
 "nbformat": 4,
 "nbformat_minor": 2
}
