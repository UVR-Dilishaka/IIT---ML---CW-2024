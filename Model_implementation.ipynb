{
 "cells": [
  {
   "cell_type": "markdown",
   "metadata": {},
   "source": [
    "# model Implementation"
   ]
  },
  {
   "cell_type": "markdown",
   "metadata": {},
   "source": [
    "Since we are developing two predictive models based on two aproches\n",
    "    1. random forest\n",
    "    2. Nueral network\n",
    "\n",
    "we will prepare the dataset that optimize the performance for each.\n"
   ]
  },
  {
   "cell_type": "code",
   "execution_count": 1,
   "metadata": {},
   "outputs": [
    {
     "name": "stderr",
     "output_type": "stream",
     "text": [
      "2025-01-01 21:29:03.635745: I external/local_xla/xla/tsl/cuda/cudart_stub.cc:32] Could not find cuda drivers on your machine, GPU will not be used.\n",
      "2025-01-01 21:29:03.640872: I external/local_xla/xla/tsl/cuda/cudart_stub.cc:32] Could not find cuda drivers on your machine, GPU will not be used.\n",
      "2025-01-01 21:29:03.655183: E external/local_xla/xla/stream_executor/cuda/cuda_fft.cc:477] Unable to register cuFFT factory: Attempting to register factory for plugin cuFFT when one has already been registered\n",
      "WARNING: All log messages before absl::InitializeLog() is called are written to STDERR\n",
      "E0000 00:00:1735747143.677564   98690 cuda_dnn.cc:8310] Unable to register cuDNN factory: Attempting to register factory for plugin cuDNN when one has already been registered\n",
      "E0000 00:00:1735747143.682757   98690 cuda_blas.cc:1418] Unable to register cuBLAS factory: Attempting to register factory for plugin cuBLAS when one has already been registered\n",
      "2025-01-01 21:29:03.705555: I tensorflow/core/platform/cpu_feature_guard.cc:210] This TensorFlow binary is optimized to use available CPU instructions in performance-critical operations.\n",
      "To enable the following instructions: AVX2 FMA, in other operations, rebuild TensorFlow with the appropriate compiler flags.\n"
     ]
    }
   ],
   "source": [
    "import pandas as pd\n",
    "import numpy as np\n",
    "import seaborn as sns\n",
    "import matplotlib.pyplot as plt\n",
    "\n",
    "from sklearn.model_selection import train_test_split\n",
    "from sklearn.ensemble import RandomForestClassifier\n",
    "from sklearn.preprocessing import LabelEncoder, OneHotEncoder,StandardScaler,MinMaxScaler\n",
    "from sklearn.compose import ColumnTransformer\n",
    "from sklearn.pipeline import Pipeline\n",
    "from sklearn.metrics import classification_report, accuracy_score, confusion_matrix\n",
    "\n",
    "\n",
    "from tensorflow.keras.models import Sequential\n",
    "from tensorflow.keras.layers import Dense\n",
    "from tensorflow.keras.optimizers import Adam\n",
    "\n",
    "\n",
    "\n"
   ]
  },
  {
   "cell_type": "markdown",
   "metadata": {},
   "source": [
    "## Random forest"
   ]
  },
  {
   "cell_type": "markdown",
   "metadata": {},
   "source": [
    "### benchmark model for random forest"
   ]
  },
  {
   "cell_type": "code",
   "execution_count": 4,
   "metadata": {},
   "outputs": [
    {
     "data": {
      "text/plain": [
       "Index(['age', 'default', 'balance', 'housing', 'loan', 'day', 'duration',\n",
       "       'campaign', 'pdays', 'previous', 'y', 'job_admin.', 'job_blue-collar',\n",
       "       'job_entrepreneur', 'job_housemaid', 'job_management', 'job_retired',\n",
       "       'job_self-employed', 'job_services', 'job_student', 'job_technician',\n",
       "       'job_unemployed', 'job_unknown', 'marital_divorced', 'marital_married',\n",
       "       'marital_single', 'contact_cellular', 'contact_telephone',\n",
       "       'contact_unknown', 'poutcome_failure', 'poutcome_other',\n",
       "       'poutcome_success', 'poutcome_unknown', 'month_apr', 'month_aug',\n",
       "       'month_dec', 'month_feb', 'month_jan', 'month_jul', 'month_jun',\n",
       "       'month_mar', 'month_may', 'month_nov', 'month_oct', 'month_sep',\n",
       "       'education_primary', 'education_secondary', 'education_tertiary',\n",
       "       'education_unknown'],\n",
       "      dtype='object')"
      ]
     },
     "execution_count": 4,
     "metadata": {},
     "output_type": "execute_result"
    }
   ],
   "source": [
    "data = pd.read_csv('data/bank_rf.csv',index_col=None)\n",
    "data.columns"
   ]
  },
  {
   "cell_type": "code",
   "execution_count": null,
   "metadata": {},
   "outputs": [],
   "source": [
    "\n",
    "X = data.drop('y', axis=1)\n",
    "y = data['y']\n",
    "\n",
    "\n",
    "X_train, X_test, y_train, y_test = train_test_split(X, y, test_size=0.2, random_state=42)"
   ]
  },
  {
   "cell_type": "code",
   "execution_count": null,
   "metadata": {},
   "outputs": [
    {
     "name": "stdout",
     "output_type": "stream",
     "text": [
      "Accuracy: 0.9046776512219397\n",
      "Confusion Matrix:\n",
      " [[7740  212]\n",
      " [ 650  441]]\n",
      "Classification Report:\n",
      "               precision    recall  f1-score   support\n",
      "\n",
      "           0       0.92      0.97      0.95      7952\n",
      "           1       0.68      0.40      0.51      1091\n",
      "\n",
      "    accuracy                           0.90      9043\n",
      "   macro avg       0.80      0.69      0.73      9043\n",
      "weighted avg       0.89      0.90      0.89      9043\n",
      "\n"
     ]
    }
   ],
   "source": [
    "\n",
    "\n",
    "\n",
    "\n",
    "\n",
    "rf_model = RandomForestClassifier(n_estimators=200, random_state=42)\n",
    "rf_model.fit(X_train, y_train)\n",
    "\n",
    "y_pred = rf_model.predict(X_test)\n",
    "\n",
    "# Evaluate the model\n",
    "print(\"Accuracy:\", accuracy_score(y_test, y_pred))\n",
    "print(\"Confusion Matrix:\\n\", confusion_matrix(y_test, y_pred))\n",
    "print(\"Classification Report:\\n\", classification_report(y_test, y_pred))\n"
   ]
  },
  {
   "cell_type": "markdown",
   "metadata": {},
   "source": [
    "Due to the class imbalance issue the recall for the minority class (yes ) is low. this is a critical issue since the practical utility of the preditive model is to narrow down potential customers form a pool of customers. high number of false negatives would means missing out on potential revenue.\n"
   ]
  },
  {
   "cell_type": "markdown",
   "metadata": {},
   "source": [
    "To moitigate that we can try oversampling and undersampling tecniques to see the potential difference"
   ]
  },
  {
   "cell_type": "markdown",
   "metadata": {},
   "source": [
    "### Upsampling with ramdom sampling and smote"
   ]
  },
  {
   "cell_type": "code",
   "execution_count": 6,
   "metadata": {},
   "outputs": [],
   "source": [
    "from imblearn.over_sampling import RandomOverSampler, SMOTE\n"
   ]
  },
  {
   "cell_type": "markdown",
   "metadata": {},
   "source": [
    "### Random sampling with sklearn resampler"
   ]
  },
  {
   "cell_type": "code",
   "execution_count": 7,
   "metadata": {},
   "outputs": [
    {
     "name": "stdout",
     "output_type": "stream",
     "text": [
      "Random Oversampling Results with resample:\n",
      "              precision    recall  f1-score   support\n",
      "\n",
      "           0       0.93      0.96      0.94      7952\n",
      "           1       0.61      0.50      0.55      1091\n",
      "\n",
      "    accuracy                           0.90      9043\n",
      "   macro avg       0.77      0.73      0.75      9043\n",
      "weighted avg       0.89      0.90      0.90      9043\n",
      "\n",
      "[[7608  344]\n",
      " [ 544  547]]\n"
     ]
    }
   ],
   "source": [
    "from sklearn.utils import resample\n",
    "\n",
    "\n",
    "train_data = pd.concat([X_train, y_train], axis=1)\n",
    "\n",
    "\n",
    "majority_class = train_data[train_data['y'] == 0]\n",
    "minority_class = train_data[train_data['y'] == 1]\n",
    "\n",
    "minority_class_oversampled = resample(minority_class,\n",
    "                                      replace=True,  # Sample with replacement\n",
    "                                      n_samples=len(majority_class),  # Match the majority class size\n",
    "                                      random_state=42)\n",
    "\n",
    "\n",
    "oversampled_data = pd.concat([majority_class, minority_class_oversampled])\n",
    "\n",
    "\n",
    "X_train_ros = oversampled_data.drop('y', axis=1)\n",
    "y_train_ros = oversampled_data['y']\n",
    "\n",
    "\n",
    "rf_ros = RandomForestClassifier(random_state=42)\n",
    "rf_ros.fit(X_train_ros, y_train_ros)\n",
    "\n",
    "# Evaluate the model\n",
    "y_pred_ros = rf_ros.predict(X_test)\n",
    "print(\"Random Oversampling Results with resample:\")\n",
    "print(classification_report(y_test, y_pred_ros))\n",
    "print(confusion_matrix(y_test, y_pred_ros))\n"
   ]
  },
  {
   "cell_type": "code",
   "execution_count": 11,
   "metadata": {},
   "outputs": [
    {
     "name": "stdout",
     "output_type": "stream",
     "text": [
      "Random Oversampling Results:\n",
      "              precision    recall  f1-score   support\n",
      "\n",
      "           0       0.94      0.96      0.95      7952\n",
      "           1       0.62      0.53      0.57      1091\n",
      "\n",
      "    accuracy                           0.90      9043\n",
      "   macro avg       0.78      0.74      0.76      9043\n",
      "weighted avg       0.90      0.90      0.90      9043\n",
      "\n",
      "[[7599  353]\n",
      " [ 517  574]]\n"
     ]
    }
   ],
   "source": [
    "\n",
    "\n",
    "ros = RandomOverSampler(random_state=42)\n",
    "X_train_ros, y_train_ros = ros.fit_resample(X_train, y_train)\n",
    "\n",
    "# Train and evaluate the Random Forest model\n",
    "print(\"Random Oversampling Results:\")\n",
    "rf_ros = RandomForestClassifier(random_state=42,n_estimators=200)\n",
    "rf_ros.fit(X_train_ros, y_train_ros)\n",
    "y_pred_ros = rf_ros.predict(X_test)\n",
    "print(classification_report(y_test, y_pred_ros))\n",
    "print(confusion_matrix(y_test, y_pred_ros))\n"
   ]
  },
  {
   "cell_type": "code",
   "execution_count": null,
   "metadata": {},
   "outputs": [],
   "source": [
    "\n",
    "smote = SMOTE(random_state=42)\n",
    "X_train_smote, y_train_smote = smote.fit_resample(X_train, y_train)\n",
    "\n",
    "print(\"\\nSMOTE Results:\")\n",
    "rf_smote = RandomForestClassifier(random_state=42,n_estimators=200)\n",
    "rf_smote.fit(X_train_smote, y_train_smote)\n",
    "y_pred_smote = rf_smote.predict(X_test)\n",
    "print(classification_report(y_test, y_pred_smote))\n",
    "print(confusion_matrix(y_test, y_pred_smote))\n"
   ]
  },
  {
   "cell_type": "markdown",
   "metadata": {},
   "source": [
    "### Undersampling tecniques"
   ]
  },
  {
   "cell_type": "code",
   "execution_count": 45,
   "metadata": {},
   "outputs": [],
   "source": [
    "\n",
    "# Define binary variables for label encoding\n",
    "binary_cols = ['housing', 'default', 'loan', 'y']\n",
    "\n",
    "# Apply Label Encoding to binary variables\n",
    "encoder = LabelEncoder()\n",
    "for col in binary_cols:\n",
    "    data[col] = encoder.fit_transform(data[col])\n",
    "\n",
    "# Define categorical variables for one-hot encoding\n",
    "categorical_cols = ['job', 'marital', 'education', 'contact', 'month', 'poutcome']\n",
    "\n",
    "# Apply One-Hot Encoding to the specified columns\n",
    "data = pd.get_dummies(data, columns=categorical_cols, drop_first=True)\n",
    "\n",
    "# Split the data into features (X) and target (y)\n",
    "X = data.drop('y', axis=1)\n",
    "y = data['y']"
   ]
  },
  {
   "cell_type": "code",
   "execution_count": 46,
   "metadata": {},
   "outputs": [],
   "source": [
    "# Split data into train and test sets\n",
    "X_train, X_test, y_train, y_test = train_test_split(X, y, test_size=0.2, random_state=42, stratify=y)"
   ]
  },
  {
   "cell_type": "code",
   "execution_count": 47,
   "metadata": {},
   "outputs": [
    {
     "name": "stdout",
     "output_type": "stream",
     "text": [
      "Balanced Random Forest Results:\n",
      "              precision    recall  f1-score   support\n",
      "\n",
      "           0       0.94      0.88      0.91      7985\n",
      "           1       0.39      0.58      0.47      1058\n",
      "\n",
      "    accuracy                           0.84      9043\n",
      "   macro avg       0.66      0.73      0.69      9043\n",
      "weighted avg       0.88      0.84      0.86      9043\n",
      "\n",
      "[[7017  968]\n",
      " [ 443  615]]\n"
     ]
    }
   ],
   "source": [
    "from imblearn.ensemble import BalancedRandomForestClassifier\n",
    "from sklearn.metrics import classification_report, confusion_matrix\n",
    "\n",
    "# Create and train a Balanced Random Forest\n",
    "brf = BalancedRandomForestClassifier(n_estimators=200, random_state=42)\n",
    "brf.fit(X_train, y_train)\n",
    "\n",
    "# Evaluate the model\n",
    "y_pred_brf = brf.predict(X_test)\n",
    "print(\"Balanced Random Forest Results:\")\n",
    "print(classification_report(y_test, y_pred_brf))\n",
    "print(confusion_matrix(y_test, y_pred_brf))\n"
   ]
  },
  {
   "cell_type": "markdown",
   "metadata": {},
   "source": [
    "#### ensamble of random forests with unsersampling"
   ]
  },
  {
   "cell_type": "code",
   "execution_count": 48,
   "metadata": {},
   "outputs": [],
   "source": [
    "# Handle class imbalance using bagging (undersample majority class)\n",
    "def balanced_bagging(X, y, n_estimators=10):\n",
    "    models = []\n",
    "    for _ in range(n_estimators):\n",
    "        # Combine X and y\n",
    "        data = pd.concat([X, y], axis=1)\n",
    "\n",
    "        # Separate majority and minority classes\n",
    "        majority = data[data['y'] == 0]\n",
    "        minority = data[data['y'] == 1]\n",
    "\n",
    "        # Undersample majority class\n",
    "        majority_downsampled = resample(\n",
    "            majority,\n",
    "            replace=False,\n",
    "            n_samples=len(minority),  # Match minority class size\n",
    "            random_state=np.random.randint(1000)\n",
    "        )\n",
    "\n",
    "        # Combine undersampled majority with minority\n",
    "        balanced_data = pd.concat([majority_downsampled, minority])\n",
    "                \n",
    "\n",
    "        # Separate features and target\n",
    "        X_balanced = balanced_data.drop('y', axis=1)\n",
    "        y_balanced = balanced_data['y']\n",
    "        \n",
    "\n",
    "        # Train a random forest model on balanced data\n",
    "        model = RandomForestClassifier(random_state=42,n_estimators=200)\n",
    "        model.fit(X_balanced, y_balanced)\n",
    "        \n",
    "        models.append(model)\n",
    "        \n",
    "\n",
    "    return models\n",
    "\n",
    "# Train models using balanced bagging\n",
    "models = balanced_bagging(X_train, y_train, n_estimators=10)\n"
   ]
  },
  {
   "cell_type": "code",
   "execution_count": 49,
   "metadata": {},
   "outputs": [],
   "source": [
    "# Predict with an ensemble approach\n",
    "def predict_with_bagging(models, X):\n",
    "    predictions = np.zeros((len(X), len(models)))\n",
    "    for i, model in enumerate(models):\n",
    "        predictions[:, i] = model.predict(X)\n",
    "    # Use majority voting\n",
    "    final_predictions = np.round(np.mean(predictions, axis=1))\n",
    "    return final_predictions\n",
    "\n",
    "# Evaluate on test data\n",
    "y_pred = predict_with_bagging(models, X_test)"
   ]
  },
  {
   "cell_type": "code",
   "execution_count": 50,
   "metadata": {},
   "outputs": [
    {
     "name": "stdout",
     "output_type": "stream",
     "text": [
      "Confusion Matrix:\n",
      "[[6455 1530]\n",
      " [ 352  706]]\n",
      "\n",
      "Classification Report:\n",
      "              precision    recall  f1-score   support\n",
      "\n",
      "           0       0.95      0.81      0.87      7985\n",
      "           1       0.32      0.67      0.43      1058\n",
      "\n",
      "    accuracy                           0.79      9043\n",
      "   macro avg       0.63      0.74      0.65      9043\n",
      "weighted avg       0.87      0.79      0.82      9043\n",
      "\n"
     ]
    }
   ],
   "source": [
    "print(\"Confusion Matrix:\")\n",
    "print(confusion_matrix(y_test, y_pred))\n",
    "print(\"\\nClassification Report:\")\n",
    "print(classification_report(y_test, y_pred))"
   ]
  },
  {
   "cell_type": "markdown",
   "metadata": {},
   "source": [
    "## Nerual netwrok"
   ]
  },
  {
   "cell_type": "code",
   "execution_count": 51,
   "metadata": {},
   "outputs": [],
   "source": [
    "df = pd.read_csv('data/bank-full.csv',delimiter=\";\")\n",
    "df = df.drop('duration', axis=1)"
   ]
  },
  {
   "cell_type": "markdown",
   "metadata": {},
   "source": [
    "### Standered Nural netwrok without modifications"
   ]
  },
  {
   "cell_type": "code",
   "execution_count": 52,
   "metadata": {},
   "outputs": [],
   "source": [
    "# min max encoding for age\n",
    "min_max_scaler = MinMaxScaler()\n",
    "df['age'] = min_max_scaler.fit_transform(df[['age']])"
   ]
  },
  {
   "cell_type": "code",
   "execution_count": 53,
   "metadata": {},
   "outputs": [
    {
     "data": {
      "text/plain": [
       "np.float64(40.19782796222158)"
      ]
     },
     "execution_count": 53,
     "metadata": {},
     "output_type": "execute_result"
    }
   ],
   "source": [
    "df['pdays'].mean()"
   ]
  },
  {
   "cell_type": "code",
   "execution_count": 54,
   "metadata": {},
   "outputs": [],
   "source": [
    "# Preprocessing the rest of variables\n",
    "categorical_cols = ['job', 'marital', 'education', 'default', 'housing', 'loan', 'contact', 'month', 'poutcome']\n",
    "numerical_cols = ['balance', 'day', 'campaign', 'pdays', 'previous']\n",
    "target = 'y'\n",
    "\n",
    "preprocessor = ColumnTransformer(\n",
    "    transformers=[\n",
    "        ('num', StandardScaler(), numerical_cols),\n",
    "        ('cat', OneHotEncoder(), categorical_cols)])"
   ]
  },
  {
   "cell_type": "code",
   "execution_count": 55,
   "metadata": {},
   "outputs": [],
   "source": [
    "\n",
    "X = df.drop(target, axis=1)\n",
    "y = df[target].apply(lambda x: 1 if x == 'yes' else 0)  # Binary encoding for the target\n",
    "\n",
    "\n",
    "X_train, X_test, y_train, y_test = train_test_split(X, y, test_size=0.2, random_state=42)\n",
    "\n",
    "X_train = preprocessor.fit_transform(X_train)\n",
    "X_test = preprocessor.transform(X_test)"
   ]
  },
  {
   "cell_type": "code",
   "execution_count": 56,
   "metadata": {},
   "outputs": [
    {
     "name": "stderr",
     "output_type": "stream",
     "text": [
      "/home/ruwantha/MEGA/IIT/ML/repos/cw/env/lib/python3.12/site-packages/keras/src/layers/core/dense.py:87: UserWarning: Do not pass an `input_shape`/`input_dim` argument to a layer. When using Sequential models, prefer using an `Input(shape)` object as the first layer in the model instead.\n",
      "  super().__init__(activity_regularizer=activity_regularizer, **kwargs)\n",
      "2025-01-01 20:12:40.948337: E external/local_xla/xla/stream_executor/cuda/cuda_driver.cc:152] failed call to cuInit: INTERNAL: CUDA error: Failed call to cuInit: UNKNOWN ERROR (303)\n"
     ]
    },
    {
     "name": "stdout",
     "output_type": "stream",
     "text": [
      "Epoch 1/20\n",
      "\u001b[1m1131/1131\u001b[0m \u001b[32m━━━━━━━━━━━━━━━━━━━━\u001b[0m\u001b[37m\u001b[0m \u001b[1m4s\u001b[0m 2ms/step - accuracy: 0.8692 - loss: 0.3553 - val_accuracy: 0.8911 - val_loss: 0.3050\n",
      "Epoch 2/20\n",
      "\u001b[1m1131/1131\u001b[0m \u001b[32m━━━━━━━━━━━━━━━━━━━━\u001b[0m\u001b[37m\u001b[0m \u001b[1m3s\u001b[0m 2ms/step - accuracy: 0.8943 - loss: 0.2932 - val_accuracy: 0.8911 - val_loss: 0.3015\n",
      "Epoch 3/20\n",
      "\u001b[1m1131/1131\u001b[0m \u001b[32m━━━━━━━━━━━━━━━━━━━━\u001b[0m\u001b[37m\u001b[0m \u001b[1m2s\u001b[0m 2ms/step - accuracy: 0.8949 - loss: 0.2919 - val_accuracy: 0.8904 - val_loss: 0.2990\n",
      "Epoch 4/20\n",
      "\u001b[1m1131/1131\u001b[0m \u001b[32m━━━━━━━━━━━━━━━━━━━━\u001b[0m\u001b[37m\u001b[0m \u001b[1m2s\u001b[0m 2ms/step - accuracy: 0.8944 - loss: 0.2871 - val_accuracy: 0.8903 - val_loss: 0.2965\n",
      "Epoch 5/20\n",
      "\u001b[1m1131/1131\u001b[0m \u001b[32m━━━━━━━━━━━━━━━━━━━━\u001b[0m\u001b[37m\u001b[0m \u001b[1m3s\u001b[0m 2ms/step - accuracy: 0.8969 - loss: 0.2834 - val_accuracy: 0.8911 - val_loss: 0.2961\n",
      "Epoch 6/20\n",
      "\u001b[1m1131/1131\u001b[0m \u001b[32m━━━━━━━━━━━━━━━━━━━━\u001b[0m\u001b[37m\u001b[0m \u001b[1m2s\u001b[0m 2ms/step - accuracy: 0.8982 - loss: 0.2794 - val_accuracy: 0.8893 - val_loss: 0.2955\n",
      "Epoch 7/20\n",
      "\u001b[1m1131/1131\u001b[0m \u001b[32m━━━━━━━━━━━━━━━━━━━━\u001b[0m\u001b[37m\u001b[0m \u001b[1m3s\u001b[0m 2ms/step - accuracy: 0.8987 - loss: 0.2768 - val_accuracy: 0.8909 - val_loss: 0.2951\n",
      "Epoch 8/20\n",
      "\u001b[1m1131/1131\u001b[0m \u001b[32m━━━━━━━━━━━━━━━━━━━━\u001b[0m\u001b[37m\u001b[0m \u001b[1m2s\u001b[0m 2ms/step - accuracy: 0.8986 - loss: 0.2766 - val_accuracy: 0.8900 - val_loss: 0.2967\n",
      "Epoch 9/20\n",
      "\u001b[1m1131/1131\u001b[0m \u001b[32m━━━━━━━━━━━━━━━━━━━━\u001b[0m\u001b[37m\u001b[0m \u001b[1m2s\u001b[0m 2ms/step - accuracy: 0.8972 - loss: 0.2817 - val_accuracy: 0.8905 - val_loss: 0.2957\n",
      "Epoch 10/20\n",
      "\u001b[1m1131/1131\u001b[0m \u001b[32m━━━━━━━━━━━━━━━━━━━━\u001b[0m\u001b[37m\u001b[0m \u001b[1m2s\u001b[0m 2ms/step - accuracy: 0.8967 - loss: 0.2782 - val_accuracy: 0.8897 - val_loss: 0.2973\n",
      "Epoch 11/20\n",
      "\u001b[1m1131/1131\u001b[0m \u001b[32m━━━━━━━━━━━━━━━━━━━━\u001b[0m\u001b[37m\u001b[0m \u001b[1m3s\u001b[0m 2ms/step - accuracy: 0.8959 - loss: 0.2833 - val_accuracy: 0.8905 - val_loss: 0.2981\n",
      "Epoch 12/20\n",
      "\u001b[1m1131/1131\u001b[0m \u001b[32m━━━━━━━━━━━━━━━━━━━━\u001b[0m\u001b[37m\u001b[0m \u001b[1m2s\u001b[0m 2ms/step - accuracy: 0.9001 - loss: 0.2749 - val_accuracy: 0.8895 - val_loss: 0.2980\n",
      "Epoch 13/20\n",
      "\u001b[1m1131/1131\u001b[0m \u001b[32m━━━━━━━━━━━━━━━━━━━━\u001b[0m\u001b[37m\u001b[0m \u001b[1m2s\u001b[0m 2ms/step - accuracy: 0.9004 - loss: 0.2769 - val_accuracy: 0.8902 - val_loss: 0.2975\n",
      "Epoch 14/20\n",
      "\u001b[1m1131/1131\u001b[0m \u001b[32m━━━━━━━━━━━━━━━━━━━━\u001b[0m\u001b[37m\u001b[0m \u001b[1m2s\u001b[0m 2ms/step - accuracy: 0.8992 - loss: 0.2719 - val_accuracy: 0.8892 - val_loss: 0.2987\n",
      "Epoch 15/20\n",
      "\u001b[1m1131/1131\u001b[0m \u001b[32m━━━━━━━━━━━━━━━━━━━━\u001b[0m\u001b[37m\u001b[0m \u001b[1m3s\u001b[0m 2ms/step - accuracy: 0.9020 - loss: 0.2741 - val_accuracy: 0.8904 - val_loss: 0.2980\n",
      "Epoch 16/20\n",
      "\u001b[1m1131/1131\u001b[0m \u001b[32m━━━━━━━━━━━━━━━━━━━━\u001b[0m\u001b[37m\u001b[0m \u001b[1m2s\u001b[0m 2ms/step - accuracy: 0.8988 - loss: 0.2743 - val_accuracy: 0.8894 - val_loss: 0.2985\n",
      "Epoch 17/20\n",
      "\u001b[1m1131/1131\u001b[0m \u001b[32m━━━━━━━━━━━━━━━━━━━━\u001b[0m\u001b[37m\u001b[0m \u001b[1m2s\u001b[0m 2ms/step - accuracy: 0.9018 - loss: 0.2666 - val_accuracy: 0.8889 - val_loss: 0.2980\n",
      "Epoch 18/20\n",
      "\u001b[1m1131/1131\u001b[0m \u001b[32m━━━━━━━━━━━━━━━━━━━━\u001b[0m\u001b[37m\u001b[0m \u001b[1m2s\u001b[0m 2ms/step - accuracy: 0.9001 - loss: 0.2715 - val_accuracy: 0.8896 - val_loss: 0.3019\n",
      "Epoch 19/20\n",
      "\u001b[1m1131/1131\u001b[0m \u001b[32m━━━━━━━━━━━━━━━━━━━━\u001b[0m\u001b[37m\u001b[0m \u001b[1m2s\u001b[0m 2ms/step - accuracy: 0.9018 - loss: 0.2696 - val_accuracy: 0.8886 - val_loss: 0.3022\n",
      "Epoch 20/20\n",
      "\u001b[1m1131/1131\u001b[0m \u001b[32m━━━━━━━━━━━━━━━━━━━━\u001b[0m\u001b[37m\u001b[0m \u001b[1m3s\u001b[0m 2ms/step - accuracy: 0.9029 - loss: 0.2670 - val_accuracy: 0.8900 - val_loss: 0.3005\n",
      "\u001b[1m283/283\u001b[0m \u001b[32m━━━━━━━━━━━━━━━━━━━━\u001b[0m\u001b[37m\u001b[0m \u001b[1m1s\u001b[0m 2ms/step\n"
     ]
    },
    {
     "data": {
      "image/png": "[encoded data removed]",
      "text/plain": [
       "<Figure size 600x400 with 2 Axes>"
      ]
     },
     "metadata": {},
     "output_type": "display_data"
    },
    {
     "name": "stdout",
     "output_type": "stream",
     "text": [
      "              precision    recall  f1-score   support\n",
      "\n",
      "          No       0.91      0.97      0.94      7952\n",
      "         Yes       0.59      0.28      0.38      1091\n",
      "\n",
      "    accuracy                           0.89      9043\n",
      "   macro avg       0.75      0.63      0.66      9043\n",
      "weighted avg       0.87      0.89      0.87      9043\n",
      "\n"
     ]
    }
   ],
   "source": [
    "\n",
    "\n",
    "# Define the neural network model\n",
    "model = Sequential()\n",
    "model.add(Dense(32, activation='relu', input_shape=(X_train.shape[1],)))\n",
    "model.add(Dense(16, activation='relu'))\n",
    "model.add(Dense(1, activation='sigmoid'))\n",
    "\n",
    "model.compile(optimizer=Adam(), loss='binary_crossentropy', metrics=['accuracy'])\n",
    "\n",
    "model.fit(X_train, y_train, epochs=20, batch_size=32, validation_data=(X_test, y_test))\n",
    "\n",
    "# Predict the test set\n",
    "y_pred = (model.predict(X_test) > 0.5).astype(\"int32\")\n",
    "\n",
    "# Confusion Matrix\n",
    "cm = confusion_matrix(y_test, y_pred)\n",
    "\n",
    "# Plot the confusion matrix\n",
    "plt.figure(figsize=(6,4))\n",
    "sns.heatmap(cm, annot=True, fmt=\"d\", cmap=\"Blues\", xticklabels=['No', 'Yes'], yticklabels=['No', 'Yes'])\n",
    "plt.ylabel('Actual Label')\n",
    "plt.xlabel('Predicted Label')\n",
    "plt.title('Confusion Matrix')\n",
    "plt.show()\n",
    "\n",
    "# Classification report\n",
    "print(classification_report(y_test, y_pred, target_names=['No', 'Yes']))"
   ]
  }
 ],
 "metadata": {
  "kernelspec": {
   "display_name": "env",
   "language": "python",
   "name": "python3"
  },
  "language_info": {
   "codemirror_mode": {
    "name": "ipython",
    "version": 3
   },
   "file_extension": ".py",
   "mimetype": "text/x-python",
   "name": "python",
   "nbconvert_exporter": "python",
   "pygments_lexer": "ipython3",
   "version": "3.12.8"
  }
 },
 "nbformat": 4,
 "nbformat_minor": 2
}
